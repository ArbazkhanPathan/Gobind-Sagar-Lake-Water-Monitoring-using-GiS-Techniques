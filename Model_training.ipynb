{
 "cells": [
  {
   "cell_type": "markdown",
   "id": "bd09562f",
   "metadata": {},
   "source": [
    "# Model Training"
   ]
  },
  {
   "cell_type": "code",
   "execution_count": 1,
   "id": "9fa2b3e0",
   "metadata": {},
   "outputs": [],
   "source": [
    "import pandas as pd\n",
    "import numpy as np\n",
    "from sklearn.ensemble import RandomForestClassifier\n",
    "from sklearn.model_selection import train_test_split\n",
    "from sklearn.metrics import accuracy_score,classification_report"
   ]
  },
  {
   "cell_type": "code",
   "execution_count": 2,
   "id": "ce8e0fa4",
   "metadata": {},
   "outputs": [],
   "source": [
    "df = pd.read_csv(r\"C:\\Users\\KIRPAL SINGH\\Desktop\\Projects\\New folder\\preprocessed_data.csv\")"
   ]
  },
  {
   "cell_type": "code",
   "execution_count": 3,
   "id": "2fa72693",
   "metadata": {},
   "outputs": [
    {
     "data": {
      "text/html": [
       "<div>\n",
       "<style scoped>\n",
       "    .dataframe tbody tr th:only-of-type {\n",
       "        vertical-align: middle;\n",
       "    }\n",
       "\n",
       "    .dataframe tbody tr th {\n",
       "        vertical-align: top;\n",
       "    }\n",
       "\n",
       "    .dataframe thead th {\n",
       "        text-align: right;\n",
       "    }\n",
       "</style>\n",
       "<table border=\"1\" class=\"dataframe\">\n",
       "  <thead>\n",
       "    <tr style=\"text-align: right;\">\n",
       "      <th></th>\n",
       "      <th>Unnamed: 0</th>\n",
       "      <th>Dissolved Oxygen</th>\n",
       "      <th>Salinity</th>\n",
       "      <th>Temperature</th>\n",
       "      <th>pH</th>\n",
       "      <th>Turbidity</th>\n",
       "      <th>Dissolved Organic Matter</th>\n",
       "      <th>Suspended Matter</th>\n",
       "      <th>Nitrate</th>\n",
       "      <th>Chlorophyll</th>\n",
       "      <th>label</th>\n",
       "    </tr>\n",
       "  </thead>\n",
       "  <tbody>\n",
       "    <tr>\n",
       "      <th>0</th>\n",
       "      <td>0</td>\n",
       "      <td>-0.182755</td>\n",
       "      <td>-0.340219</td>\n",
       "      <td>0.661065</td>\n",
       "      <td>-0.009127</td>\n",
       "      <td>-0.364630</td>\n",
       "      <td>1.037587</td>\n",
       "      <td>1.454121</td>\n",
       "      <td>0.012896</td>\n",
       "      <td>-0.137686</td>\n",
       "      <td>1</td>\n",
       "    </tr>\n",
       "    <tr>\n",
       "      <th>1</th>\n",
       "      <td>1</td>\n",
       "      <td>0.098832</td>\n",
       "      <td>-0.162399</td>\n",
       "      <td>0.706319</td>\n",
       "      <td>-0.026285</td>\n",
       "      <td>-0.361003</td>\n",
       "      <td>1.337050</td>\n",
       "      <td>1.508155</td>\n",
       "      <td>0.012856</td>\n",
       "      <td>-1.139119</td>\n",
       "      <td>1</td>\n",
       "    </tr>\n",
       "    <tr>\n",
       "      <th>2</th>\n",
       "      <td>2</td>\n",
       "      <td>-1.312464</td>\n",
       "      <td>-0.586621</td>\n",
       "      <td>0.685549</td>\n",
       "      <td>-0.524840</td>\n",
       "      <td>-0.415914</td>\n",
       "      <td>1.059073</td>\n",
       "      <td>1.115223</td>\n",
       "      <td>0.013447</td>\n",
       "      <td>-0.166706</td>\n",
       "      <td>1</td>\n",
       "    </tr>\n",
       "    <tr>\n",
       "      <th>3</th>\n",
       "      <td>3</td>\n",
       "      <td>-4.142801</td>\n",
       "      <td>-0.163807</td>\n",
       "      <td>0.664817</td>\n",
       "      <td>-0.488121</td>\n",
       "      <td>-0.093766</td>\n",
       "      <td>1.075328</td>\n",
       "      <td>1.529143</td>\n",
       "      <td>0.009641</td>\n",
       "      <td>-0.919622</td>\n",
       "      <td>1</td>\n",
       "    </tr>\n",
       "    <tr>\n",
       "      <th>4</th>\n",
       "      <td>4</td>\n",
       "      <td>-2.012521</td>\n",
       "      <td>-0.464856</td>\n",
       "      <td>0.726265</td>\n",
       "      <td>1.808017</td>\n",
       "      <td>1.581754</td>\n",
       "      <td>1.012688</td>\n",
       "      <td>1.135012</td>\n",
       "      <td>-0.047192</td>\n",
       "      <td>0.279901</td>\n",
       "      <td>1</td>\n",
       "    </tr>\n",
       "  </tbody>\n",
       "</table>\n",
       "</div>"
      ],
      "text/plain": [
       "   Unnamed: 0  Dissolved Oxygen  Salinity  Temperature        pH  Turbidity  \\\n",
       "0           0         -0.182755 -0.340219     0.661065 -0.009127  -0.364630   \n",
       "1           1          0.098832 -0.162399     0.706319 -0.026285  -0.361003   \n",
       "2           2         -1.312464 -0.586621     0.685549 -0.524840  -0.415914   \n",
       "3           3         -4.142801 -0.163807     0.664817 -0.488121  -0.093766   \n",
       "4           4         -2.012521 -0.464856     0.726265  1.808017   1.581754   \n",
       "\n",
       "   Dissolved Organic Matter  Suspended Matter   Nitrate  Chlorophyll  label  \n",
       "0                  1.037587          1.454121  0.012896    -0.137686      1  \n",
       "1                  1.337050          1.508155  0.012856    -1.139119      1  \n",
       "2                  1.059073          1.115223  0.013447    -0.166706      1  \n",
       "3                  1.075328          1.529143  0.009641    -0.919622      1  \n",
       "4                  1.012688          1.135012 -0.047192     0.279901      1  "
      ]
     },
     "execution_count": 3,
     "metadata": {},
     "output_type": "execute_result"
    }
   ],
   "source": [
    "df.head()"
   ]
  },
  {
   "cell_type": "code",
   "execution_count": 4,
   "id": "6f4133f4",
   "metadata": {},
   "outputs": [],
   "source": [
    "df = df.drop(['Unnamed: 0'],axis=1)"
   ]
  },
  {
   "cell_type": "code",
   "execution_count": 5,
   "id": "a07a1254",
   "metadata": {},
   "outputs": [],
   "source": [
    "x = df.drop([\"label\"],axis=1)   \n",
    "y = df[\"label\"]"
   ]
  },
  {
   "cell_type": "code",
   "execution_count": 6,
   "id": "7f6d08b3",
   "metadata": {},
   "outputs": [
    {
     "name": "stdout",
     "output_type": "stream",
     "text": [
      "(15295, 9)\n",
      "(15295,)\n"
     ]
    }
   ],
   "source": [
    "print(x.shape)\n",
    "print(y.shape)"
   ]
  },
  {
   "cell_type": "markdown",
   "id": "149b3f6d",
   "metadata": {},
   "source": [
    "**Splitting the data into train and test**"
   ]
  },
  {
   "cell_type": "code",
   "execution_count": 7,
   "id": "d09f8a45",
   "metadata": {},
   "outputs": [],
   "source": [
    "x_train,x_test,y_train,y_test = train_test_split(x,y,test_size=0.2)"
   ]
  },
  {
   "cell_type": "markdown",
   "id": "2b23b249",
   "metadata": {},
   "source": [
    "**Model Building**"
   ]
  },
  {
   "cell_type": "code",
   "execution_count": 8,
   "id": "e9085e56",
   "metadata": {},
   "outputs": [],
   "source": [
    "rf_clf = RandomForestClassifier()"
   ]
  },
  {
   "cell_type": "code",
   "execution_count": 9,
   "id": "011b9514",
   "metadata": {},
   "outputs": [
    {
     "data": {
      "text/plain": [
       "RandomForestClassifier()"
      ]
     },
     "execution_count": 9,
     "metadata": {},
     "output_type": "execute_result"
    }
   ],
   "source": [
    "rf_clf.fit(x_train,y_train)"
   ]
  },
  {
   "cell_type": "code",
   "execution_count": 10,
   "id": "63bb34e5",
   "metadata": {},
   "outputs": [],
   "source": [
    "y_pred = rf_clf.predict(x_test)"
   ]
  },
  {
   "cell_type": "code",
   "execution_count": 11,
   "id": "b210d93c",
   "metadata": {},
   "outputs": [
    {
     "data": {
      "text/plain": [
       "1.0"
      ]
     },
     "execution_count": 11,
     "metadata": {},
     "output_type": "execute_result"
    }
   ],
   "source": [
    "accuracy_score(y_pred,y_test)"
   ]
  },
  {
   "cell_type": "code",
   "execution_count": 12,
   "id": "916a40f6",
   "metadata": {},
   "outputs": [
    {
     "name": "stdout",
     "output_type": "stream",
     "text": [
      "              precision    recall  f1-score   support\n",
      "\n",
      "           1       1.00      1.00      1.00      2906\n",
      "           2       1.00      1.00      1.00       153\n",
      "\n",
      "    accuracy                           1.00      3059\n",
      "   macro avg       1.00      1.00      1.00      3059\n",
      "weighted avg       1.00      1.00      1.00      3059\n",
      "\n"
     ]
    }
   ],
   "source": [
    "print(classification_report(y_pred,y_test))"
   ]
  },
  {
   "cell_type": "code",
   "execution_count": null,
   "id": "608549de",
   "metadata": {},
   "outputs": [],
   "source": []
  }
 ],
 "metadata": {
  "kernelspec": {
   "display_name": "Python 3 (ipykernel)",
   "language": "python",
   "name": "python3"
  },
  "language_info": {
   "codemirror_mode": {
    "name": "ipython",
    "version": 3
   },
   "file_extension": ".py",
   "mimetype": "text/x-python",
   "name": "python",
   "nbconvert_exporter": "python",
   "pygments_lexer": "ipython3",
   "version": "3.9.13"
  }
 },
 "nbformat": 4,
 "nbformat_minor": 5
}
